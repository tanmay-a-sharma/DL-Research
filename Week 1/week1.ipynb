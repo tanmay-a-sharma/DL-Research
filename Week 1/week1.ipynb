{
 "cells": [
  {
   "cell_type": "code",
   "execution_count": 83,
   "metadata": {},
   "outputs": [
    {
     "data": {
      "text/plain": [
       "'import apple data base, take random sample of 100 apples, take first apple\\n and visualize it'"
      ]
     },
     "execution_count": 83,
     "metadata": {},
     "output_type": "execute_result"
    }
   ],
   "source": [
    "#Tanmay Sharma \n",
    "# Jan 31 2022\n",
    "# week 1 assignment\n",
    "\n",
    "\"\"\"import apple data base from Google Draw, take random sample of 100 apples, pick first apple in that set\n",
    " and visualize it\"\"\""
   ]
  },
  {
   "cell_type": "code",
   "execution_count": 113,
   "metadata": {},
   "outputs": [],
   "source": [
    "import pandas as pd\n",
    "import numpy as np\n",
    "import seaborn as sns\n",
    "import matplotlib.pyplot as plt\n",
    "from sklearn.preprocessing import StandardScaler, normalize\n",
    "from sklearn.cluster import KMeans\n",
    "from sklearn.decomposition import PCA\n",
    "import numpy as np\n",
    "from matplotlib import pyplot as plt\n",
    "#import matplotlib\n",
    "#import glob\n",
    "import random\n",
    "from PIL import Image as im\n",
    "\n"
   ]
  },
  {
   "cell_type": "code",
   "execution_count": 114,
   "metadata": {},
   "outputs": [
    {
     "name": "stdout",
     "output_type": "stream",
     "text": [
      "(144722, 784)\n",
      "[39, 380, 324, 554, 88, 740, 779, 355, 352, 661]\n",
      "[  0   0   0   0   0   0   0   0   0   0   0   0   0   0   0   0   0   0\n",
      "   0   0   0   0   0   0   0   0   0   0   0   0   0   0   0   0   0   0\n",
      "   0   0   0   0   8  77   0   0   0   0   0   0   0   0   0   0   0   0\n",
      "   0   0   0   0   0   0   0   0   0   0   0   0   0   0 108 255 160   7\n",
      "   0   0   0   0   0   0   0   0   0   0   0   0   0   0   0   0   0   0\n",
      "   0   0   0   0   0   3 235 255 252  17   0   0   0   0   0   0   0   0\n",
      "   0   0   0   0   0   0   0   0   0   0   0   0   0   0   0  41 255 255\n",
      " 193   0   0   0   0   0   0   0   0   0   0   0   0   0   0   0   0   0\n",
      "   0   0   0   0   0   0   0  90 255 255 116   0   0   0   0   0   0   0\n",
      "   0   0   0   0   0   0   0   0   0   0   0   0   0   0   0   8 119 209\n",
      " 255 241 128  36   0   0   0   0   0   0   0   0   0   0   0   0   0   0\n",
      "   0   0   0   0   0   0  13 209 253 233 250 228 254 250 143  16   0   0\n",
      "   0   0   0   0   0   0   0   0   0   0   0   0   0   0   0   0 159 250\n",
      "  68   0   0   0  22 145 250 221  42   0   0   0   0   0   0   0   0   0\n",
      "   0   0   0   0   0   0   0  84 255 121   0   0   0   0   0   0  49 226\n",
      " 240  73   0   0   0   0   0   0   0   0   0   0   0   0   0   0  27 236\n",
      " 194   3   0   0   0   0   0   0   0  24 199 252  85   0   0   0   0   0\n",
      "   0   0   0   0   0   0   0   0 179 240  32   0   0   0   0   0   0   0\n",
      "   0   0   8 188 243  35   0   0   0   0   0   0   0   0   0   0   0  17\n",
      " 252 123   0   0   0   0   0   0   0   0   0   0   0  22 245 143   0   0\n",
      "   0   0   0   0   0   0   0   0   0  63 255  62   0   0   0   0   0   0\n",
      "   0   0   0   0   0   0 174 209   0   0   0   0   0   0   0   0   0   0\n",
      "   0  73 255  49   0   0   0   0   0   0   0   0   0   0   0   0 138 241\n",
      "   0   0   0   0   0   0   0   0   0   0   0  81 255  41   0   0   0   0\n",
      "   0   0   0   0   0   0   0   0 110 255  13   0   0   0   0   0   0   0\n",
      "   0   0   0  90 255  32   0   0   0   0   0   0   0   0   0   0   0   0\n",
      " 103 255  19   0   0   0   0   0   0   0   0   0   0  98 255  24   0   0\n",
      "   0   0   0   0   0   0   0   0   0   0  99 255  24   0   0   0   0   0\n",
      "   0   0   0   0   0 106 255  16   0   0   0   0   0   0   0   0   0   0\n",
      "   0   0  94 255  28   0   0   0   0   0   0   0   0   0   0  86 255  42\n",
      "   0   0   0   0   0   0   0   0   0   0   0   0  90 255  32   0   0   0\n",
      "   0   0   0   0   0   0   0  28 253 126   0   0   0   0   0   0   0   0\n",
      "   0   0   0   0  86 255  36   0   0   0   0   0   0   0   0   0   0   0\n",
      " 170 236  22   0   0   0   0   0   0   0   0   0   0   0  72 255  52   0\n",
      "   0   0   0   0   0   0   0   0   0   0  43 241 216  37   0   0   0   4\n",
      "  91 176  87   2   0   0  54 255  92   0   0   0   0   0   0   0   0   0\n",
      "   0   0   0  52 244 255 203 146 154 227 255 235 255 208 121 138 247 255\n",
      " 105   0   0   0   0   0   0   0   0   0   0   0   0   0  66 193 198 235\n",
      " 233 166  71   1  81 209 255 253 177 255  96   0   0   0   0   0   0   0\n",
      "   0   0   0   0   0   0   0   0   0   0   0   0   0   0   0   0   0   0\n",
      "  30 255  83   0   0   0   0   0   0   0   0   0   0   0   0   0   0   0\n",
      "   0   0   0   0   0   0   0   0   0   0   0  77   8   0   0   0   0   0\n",
      "   0   0   0   0   0   0   0   0   0   0   0   0   0   0   0   0   0   0\n",
      "   0   0   0   0   0   0   0   0   0   0]\n"
     ]
    },
    {
     "data": {
      "text/plain": [
       "\"\\nnp.save('data.npy', data)\\nprint(apples_df)\\nrandom_index1 = np.random.randint(1, apples_df.shape[1])\\nrandom_index2 = np.random.randint(1, apples_df.shape[1])\\nselectedApple = apples_df[random_index1][random_index2]\\nprint(selectedApple)\\n\""
      ]
     },
     "execution_count": 114,
     "metadata": {},
     "output_type": "execute_result"
    }
   ],
   "source": [
    "\n",
    "apples_df = np.load(\"apple.npy\")\n",
    "print(apples_df.shape)\n",
    "\n",
    "jobs=[]\n",
    "rand=0\n",
    "for i in range(100):\n",
    "    rand = random.randint(1,784)\n",
    "    jobs.append(rand)\n",
    "print(jobs)\n",
    "print(apples_df[jobs[0]])\n",
    "\n",
    "\n",
    "dataset = apples_df[jobs[0]]\n",
    "array = np.reshape(dataset, (28, 28))\n",
    "\n",
    "data = im.fromarray(array)\n",
    "\n",
    "    # saving the final output \n",
    "    # as a PNG file\n",
    "data.save('apple.png')\n",
    "\n",
    "\n",
    "\n",
    "\"\"\"\n",
    "for filename in glob.glob(\"data.npy\"):\n",
    "    if '.npy' in filename:\n",
    "        img_array = np.load(filename, allow_pickle=True)\n",
    "        plt.imshow(img_array, cmap=\"gray\")\n",
    "        img_name = filename+\".png\"\n",
    "        matplotlib.image.imsave(img_name, img_array)\n",
    "        print(filename)\n",
    "\n",
    "\"\"\"\n",
    "\"\"\"\n",
    "np.save('data.npy', data)\n",
    "print(apples_df)\n",
    "random_index1 = np.random.randint(1, apples_df.shape[1])\n",
    "random_index2 = np.random.randint(1, apples_df.shape[1])\n",
    "selectedApple = apples_df[random_index1][random_index2]\n",
    "print(selectedApple)\n",
    "\"\"\""
   ]
  },
  {
   "cell_type": "code",
   "execution_count": null,
   "metadata": {},
   "outputs": [],
   "source": []
  },
  {
   "cell_type": "code",
   "execution_count": null,
   "metadata": {},
   "outputs": [],
   "source": []
  },
  {
   "cell_type": "code",
   "execution_count": null,
   "metadata": {},
   "outputs": [],
   "source": []
  }
 ],
 "metadata": {
  "interpreter": {
   "hash": "7d5f7866feddbc36692f5276c122704e67d75663561bdaab1d19fa3d38f26b95"
  },
  "kernelspec": {
   "display_name": "Python 3.8.12 64-bit ('base': conda)",
   "language": "python",
   "name": "python3"
  },
  "language_info": {
   "codemirror_mode": {
    "name": "ipython",
    "version": 3
   },
   "file_extension": ".py",
   "mimetype": "text/x-python",
   "name": "python",
   "nbconvert_exporter": "python",
   "pygments_lexer": "ipython3",
   "version": "3.8.12"
  },
  "orig_nbformat": 4
 },
 "nbformat": 4,
 "nbformat_minor": 2
}
