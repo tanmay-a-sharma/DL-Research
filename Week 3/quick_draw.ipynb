{
  "cells": [
    {
      "cell_type": "markdown",
      "metadata": {
        "id": "k9UXA_jasejq"
      },
      "source": [
        "Dataset: https://console.cloud.google.com/storage/browser/quickdraw_dataset/full/numpy_bitmap"
      ]
    },
    {
      "cell_type": "code",
      "execution_count": null,
      "metadata": {},
      "outputs": [],
      "source": [
        "# Tanmay Sharma \n",
        "# Feb 18 2022\n",
        "# week 3\n",
        "\n",
        "\"\"\"\n",
        "-create training model for apple, banana, onion, sun, strawberry identification\n",
        "- 28x28 pixel range of each image (0,1) being compared\n",
        "- value accuracy is low \n",
        "    use KNearest, Linear SVC, MLPClassifier, Neural Networks tos see which can give\n",
        "    us a usable value accuracy / test accuracy \n",
        " \n",
        " \n",
        " \n",
        " \n",
        " \"\"\""
      ]
    },
    {
      "cell_type": "code",
      "execution_count": 27,
      "metadata": {
        "id": "GnTcqybjsSlf"
      },
      "outputs": [],
      "source": [
        "import numpy as np\n",
        "from PIL import Image\n",
        "from sklearn.model_selection import train_test_split\n",
        "from sklearn.neighbors import KNeighborsClassifier\n",
        "from sklearn.svm import LinearSVC\n",
        "from sklearn.neural_network import MLPClassifier"
      ]
    },
    {
      "cell_type": "code",
      "execution_count": 44,
      "metadata": {
        "id": "YKxDdTgMtCIj"
      },
      "outputs": [],
      "source": [
        "def demo(item_list, N_samples, image_crop=False):\n",
        "    dataset_X = []\n",
        "    dataset_y = []\n",
        "    for label, item in enumerate(item_list):\n",
        "        data = np.load('full_numpy_bitmap_{}.npy'.format(item))\n",
        "        print(item, data.shape, label)\n",
        "        for d in data[:N_samples]:\n",
        "            if image_crop:\n",
        "                img = Image.fromarray(d.reshape(28, 28))\n",
        "                img = img.crop(img.getbbox()).resize((28, 28), Image.LANCZOS)\n",
        "                dataset_X.append(np.asarray(img).reshape(784, ))\n",
        "            else:\n",
        "                dataset_X.append(d)\n",
        "            dataset_y.append(label)\n",
        "\n",
        "    dataset_X = np.array(dataset_X)\n",
        "    dataset_y = np.array(dataset_y)\n",
        "    print('total dataset:', dataset_X.shape, dataset_y.shape)\n",
        "\n",
        "    # skip data pre-processing\n",
        "    dataset_X = np.where(dataset_X > 0, 1, 0)\n",
        "\n",
        "    # prepare for train/val/test\n",
        "    # 0.56 0.14 0.3\n",
        "    X_train, X_test, y_train, y_test = train_test_split(dataset_X, dataset_y, test_size=0.3, shuffle=False)\n",
        "    X_train, X_val, y_train, y_val = train_test_split(X_train, y_train, test_size=0.2, shuffle=False)\n",
        "    print('training set:', X_train.shape, y_train.shape)\n",
        "    print('val set:', X_val.shape, y_val.shape)\n",
        "    print('test set:', X_test.shape, y_test.shape)\n",
        "\n",
        "    for n_value in [5]: \n",
        "        for p_value in [2]: \n",
        "            model = MLPClassifier(hidden_layer_sizes = (600,100,), learning_rate = 'adaptive',early_stopping=True)\n",
        "            model.fit(X_train, y_train)\n",
        "            print('training accuracy:', n_value, p_value, model.score(X_train, y_train))\n",
        "            print('val accuracy:', n_value, p_value, model.score(X_val, y_val))\n",
        "            print('test accuracy:', n_value, p_value, model.score(X_test, y_test))\n"
      ]
    },
    {
      "cell_type": "code",
      "execution_count": 12,
      "metadata": {
        "colab": {
          "base_uri": "https://localhost:8080/",
          "height": 168
        },
        "id": "_L1-bZJnsqAM",
        "outputId": "8f416c17-92c1-41c9-fdf7-bb2e6585cd60"
      },
      "outputs": [
        {
          "name": "stdout",
          "output_type": "stream",
          "text": [
            "apple (144722, 784) 0\n",
            "strawberry (122301, 784) 1\n",
            "banana (307936, 784) 2\n",
            "onion (132297, 784) 3\n",
            "sun (133781, 784) 4\n",
            "total dataset: (5000, 784) (5000,)\n",
            "training set: (2800, 784) (2800,)\n",
            "val set: (700, 784) (700,)\n",
            "test set: (1500, 784) (1500,)\n",
            "training accuracy: 5 2 0.9353571428571429\n",
            "val accuracy: 5 2 0.27285714285714285\n"
          ]
        }
      ],
      "source": [
        "item_list = ['apple', 'strawberry','banana','onion','sun']\n",
        "N_samples = 1000\n",
        "demo(item_list, N_samples)"
      ]
    },
    {
      "cell_type": "code",
      "execution_count": 46,
      "metadata": {
        "colab": {
          "base_uri": "https://localhost:8080/",
          "height": 168
        },
        "id": "ckkrH_lQx1b9",
        "outputId": "052e915a-3462-49c4-db76-20a2e2fe1694"
      },
      "outputs": [
        {
          "name": "stdout",
          "output_type": "stream",
          "text": [
            "apple (144722, 784) 0\n",
            "strawberry (122301, 784) 1\n",
            "banana (307936, 784) 2\n",
            "onion (132297, 784) 3\n",
            "total dataset: (32000, 784) (32000,)\n",
            "training set: (17920, 784) (17920,)\n",
            "val set: (4480, 784) (4480,)\n",
            "test set: (9600, 784) (9600,)\n",
            "training accuracy: 5 2 0.9944196428571429\n",
            "val accuracy: 5 2 0.9261160714285714\n",
            "test accuracy: 5 2 0.15354166666666666\n"
          ]
        }
      ],
      "source": [
        "item_list = ['apple', 'strawberry','banana','onion',]\n",
        "N_samples = 8000\n",
        "demo(item_list, N_samples)"
      ]
    }
  ],
  "metadata": {
    "colab": {
      "collapsed_sections": [],
      "name": "quick draw.ipynb",
      "provenance": []
    },
    "kernelspec": {
      "display_name": "Python 3",
      "name": "python3"
    },
    "language_info": {
      "codemirror_mode": {
        "name": "ipython",
        "version": 3
      },
      "file_extension": ".py",
      "mimetype": "text/x-python",
      "name": "python",
      "nbconvert_exporter": "python",
      "pygments_lexer": "ipython3",
      "version": "3.8.12"
    }
  },
  "nbformat": 4,
  "nbformat_minor": 0
}
