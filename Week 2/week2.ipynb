{
 "cells": [
  {
   "cell_type": "code",
   "execution_count": 1,
   "metadata": {},
   "outputs": [
    {
     "data": {
      "text/plain": [
       "'\\n-import apple data base from Google Draw, take random sample of 100 apples, pick first apple in that set\\nand visualize it\\n-change all values in matrix that are above 0 to 1; the difference between 234 and 1 is not \\nrecognized in the image as it black and white\\n-adjust the random sample method to be more efficient\\n-test with a one-dimensional array; adjust from the current 2d array\\n-create training set for apples // download images similar to shape of apple for training set\\n \\n \\n \\n \\n '"
      ]
     },
     "execution_count": 1,
     "metadata": {},
     "output_type": "execute_result"
    }
   ],
   "source": [
    "# Tanmay Sharma \n",
    "# Feb 9 2022\n",
    "# week 2 \n",
    "\n",
    "\"\"\"\n",
    "-import apple data base from Google Draw, take random sample of 100 apples, pick first apple in that set\n",
    "and visualize it\n",
    "-change all values in matrix that are above 0 to 1; the difference between 234 and 1 is not \n",
    "recognized in the image as it black and white\n",
    "-adjust the random sample method to be more efficient\n",
    "-test with a one-dimensional array; adjust from the current 2d array\n",
    "-create training set for apples // download images similar to shape of apple for training set\n",
    " \n",
    " \n",
    " \n",
    " \n",
    " \"\"\""
   ]
  },
  {
   "cell_type": "code",
   "execution_count": 4,
   "metadata": {},
   "outputs": [],
   "source": [
    "import pandas as pd\n",
    "import numpy as np\n",
    "import seaborn as sns\n",
    "import matplotlib.pyplot as plt\n",
    "from sklearn.preprocessing import StandardScaler, normalize\n",
    "from sklearn.cluster import KMeans\n",
    "from sklearn.decomposition import PCA\n",
    "import numpy as np\n",
    "from matplotlib import pyplot as plt\n",
    "#import matplotlib\n",
    "#import glob\n",
    "import random\n",
    "from PIL import Image as im\n",
    "\n"
   ]
  },
  {
   "cell_type": "code",
   "execution_count": 6,
   "metadata": {},
   "outputs": [
    {
     "name": "stdout",
     "output_type": "stream",
     "text": [
      "(144722, 784)\n",
      "[[0 0 0 0 0 0 0 0 0 0 0 0 0 0 0 0 0 0 0 0 0 0 0 0 0 0 0 0]\n",
      " [0 0 0 0 0 0 0 0 0 0 0 0 0 0 1 1 0 0 0 0 0 0 0 0 0 0 0 0]\n",
      " [0 0 0 0 0 0 0 0 0 0 0 0 0 0 1 1 0 0 0 0 0 0 0 0 0 0 0 0]\n",
      " [0 0 0 0 0 0 0 0 0 0 0 0 0 0 1 1 0 0 0 0 0 0 0 0 0 0 0 0]\n",
      " [0 0 0 0 0 0 0 0 0 0 0 0 0 0 1 1 0 0 0 0 0 0 0 0 0 0 0 0]\n",
      " [0 0 0 0 0 0 0 0 0 0 0 0 0 0 1 1 0 1 1 1 0 0 0 0 0 0 0 0]\n",
      " [0 0 0 0 0 0 0 0 0 0 0 1 1 1 1 1 1 1 1 1 1 0 0 0 0 0 0 0]\n",
      " [0 0 0 0 0 0 0 0 0 0 1 1 1 1 1 1 1 1 1 1 1 1 0 0 0 0 0 0]\n",
      " [0 0 0 0 0 0 0 0 0 1 1 1 1 1 1 1 1 0 0 1 1 1 0 0 0 0 0 0]\n",
      " [0 0 0 0 0 0 0 0 1 1 1 1 0 1 1 1 1 0 0 0 1 1 0 0 0 0 0 0]\n",
      " [0 0 0 0 0 0 0 0 1 1 1 1 0 0 1 0 0 0 0 1 1 1 0 0 0 0 0 0]\n",
      " [0 0 0 0 0 0 0 1 1 1 1 0 0 0 0 0 0 0 0 1 1 1 0 0 0 0 0 0]\n",
      " [0 0 0 0 0 0 0 1 1 1 0 0 0 0 0 0 0 0 0 1 1 1 0 0 0 0 0 0]\n",
      " [0 0 0 0 0 0 1 1 1 0 0 0 0 0 0 0 0 0 0 1 1 1 0 0 0 0 0 0]\n",
      " [0 0 0 0 0 0 1 1 1 0 0 0 0 0 0 0 1 1 1 1 1 0 0 0 0 0 0 0]\n",
      " [0 0 0 0 0 0 1 1 1 0 0 0 0 0 0 1 1 1 1 1 1 0 0 0 0 0 0 0]\n",
      " [0 0 0 0 0 0 1 1 0 0 0 0 0 0 0 1 1 1 0 1 1 0 0 0 0 0 0 0]\n",
      " [0 0 0 0 0 0 1 1 0 0 0 0 0 0 0 1 1 1 0 1 1 0 0 0 0 0 0 0]\n",
      " [0 0 0 0 0 0 1 1 0 0 0 0 0 0 0 1 1 1 1 1 1 0 0 0 0 0 0 0]\n",
      " [0 0 0 0 0 0 1 1 0 0 0 0 0 0 0 0 1 1 1 1 1 0 0 0 0 0 0 0]\n",
      " [0 0 0 0 0 0 1 1 0 0 0 0 0 0 0 0 0 1 1 1 1 0 0 0 0 0 0 0]\n",
      " [0 0 0 0 0 0 1 1 1 0 0 0 0 0 0 0 0 1 1 1 1 0 0 0 0 0 0 0]\n",
      " [0 0 0 0 0 0 1 1 1 1 0 0 0 0 0 0 0 1 1 1 0 0 0 0 0 0 0 0]\n",
      " [0 0 0 0 0 0 0 1 1 1 1 0 0 0 0 0 1 1 1 0 0 0 0 0 0 0 0 0]\n",
      " [0 0 0 0 0 0 0 0 1 1 1 1 0 0 1 1 1 1 1 0 0 0 0 0 0 0 0 0]\n",
      " [0 0 0 0 0 0 0 0 0 1 1 1 1 1 1 1 1 1 0 0 0 0 0 0 0 0 0 0]\n",
      " [0 0 0 0 0 0 0 0 0 0 1 1 1 1 1 1 1 0 0 0 0 0 0 0 0 0 0 0]\n",
      " [0 0 0 0 0 0 0 0 0 0 0 0 0 0 0 0 0 0 0 0 0 0 0 0 0 0 0 0]]\n"
     ]
    },
    {
     "data": {
      "text/plain": [
       "\"\\nnp.save('data.npy', data)\\nprint(apples_df)\\nrandom_index1 = np.random.randint(1, apples_df.shape[1])\\nrandom_index2 = np.random.randint(1, apples_df.shape[1])\\nselectedApple = apples_df[random_index1][random_index2]\\nprint(selectedApple)\\n\""
      ]
     },
     "execution_count": 6,
     "metadata": {},
     "output_type": "execute_result"
    }
   ],
   "source": [
    "\n",
    "apples_df = np.load(\"apple.npy\")\n",
    "print(apples_df.shape)\n",
    "\n",
    "jobs=[]\n",
    "rand=0\n",
    "for i in range(100):\n",
    "    rand = random.randint(1,784)\n",
    "    jobs.append(rand)\n",
    "#print(jobs)\n",
    "#print(apples_df[jobs[0]])\n",
    "\n",
    "    \n",
    "dataset = apples_df[jobs[0]]\n",
    "\n",
    "\n",
    "\n",
    "array = np.reshape(dataset, (28, 28))\n",
    "\"\"\"\n",
    "x=0\n",
    "y=0\n",
    "i = 0\n",
    "for i in range(1,28):\n",
    "    if (array[i][y] != 0):\n",
    "        array[i][y] = 1\n",
    "\"\"\"\n",
    "i=0\n",
    "t= 0\n",
    "for i in range(1,28):\n",
    "    for t in range(1,28):\n",
    "        if (array[t][i] != 0):\n",
    "            array[t][i] = 1\n",
    "  \n",
    "\n",
    "print(array)\n",
    "\n",
    "data = im.fromarray(array)\n",
    "\n",
    "\n",
    "    # saving the final output \n",
    "    # as a PNG file\n",
    "data.save('apple.png')\n",
    "\n",
    "\n",
    "\"\"\"\n",
    "for filename in glob.glob(\"data.npy\"):\n",
    "    if '.npy' in filename:\n",
    "        img_array = np.load(filename, allow_pickle=True)\n",
    "        plt.imshow(img_array, cmap=\"gray\")\n",
    "        img_name = filename+\".png\"\n",
    "        matplotlib.image.imsave(img_name, img_array)\n",
    "        print(filename)\n",
    "\n",
    "\"\"\"\n",
    "\"\"\"\n",
    "np.save('data.npy', data)\n",
    "print(apples_df)\n",
    "random_index1 = np.random.randint(1, apples_df.shape[1])\n",
    "random_index2 = np.random.randint(1, apples_df.shape[1])\n",
    "selectedApple = apples_df[random_index1][random_index2]\n",
    "print(selectedApple)\n",
    "\"\"\""
   ]
  },
  {
   "cell_type": "code",
   "execution_count": null,
   "metadata": {},
   "outputs": [],
   "source": []
  },
  {
   "cell_type": "code",
   "execution_count": null,
   "metadata": {},
   "outputs": [],
   "source": []
  },
  {
   "cell_type": "code",
   "execution_count": null,
   "metadata": {},
   "outputs": [],
   "source": []
  }
 ],
 "metadata": {
  "interpreter": {
   "hash": "7d5f7866feddbc36692f5276c122704e67d75663561bdaab1d19fa3d38f26b95"
  },
  "kernelspec": {
   "display_name": "Python 3.8.12 64-bit ('base': conda)",
   "language": "python",
   "name": "python3"
  },
  "language_info": {
   "codemirror_mode": {
    "name": "ipython",
    "version": 3
   },
   "file_extension": ".py",
   "mimetype": "text/x-python",
   "name": "python",
   "nbconvert_exporter": "python",
   "pygments_lexer": "ipython3",
   "version": "3.8.12"
  },
  "orig_nbformat": 4
 },
 "nbformat": 4,
 "nbformat_minor": 2
}
