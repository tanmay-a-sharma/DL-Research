{
 "cells": [
  {
   "cell_type": "code",
   "execution_count": 3,
   "metadata": {},
   "outputs": [
    {
     "data": {
      "text/plain": [
       "\"\\n-create training model for apple, banana, onion, sun, strawberry identification\\n- 28x28 pixel range of each image (0,1) being compared\\n- using different layers in the Neural Network, itentify which combination of layers\\ngive us the optimal value/test accuracty\\n\\n\\n** we see that our test accuracy never reaches above 15% throughout experimentation and so\\nwe will manipulate the array; if the manipulation of the array doesn't give us a higher test\\naccuracy ---> change model to CNN \\n\\n:)\\n\\n \""
      ]
     },
     "execution_count": 3,
     "metadata": {},
     "output_type": "execute_result"
    }
   ],
   "source": [
    "# Tanmay Sharma \n",
    "# February 23 2022\n",
    "# week 4\n",
    "\n",
    "\"\"\"\n",
    "-create training model for apple, banana, onion, sun, strawberry identification\n",
    "- 28x28 pixel range of each image (0,1) being compared\n",
    "- using different layers in the Neural Network, itentify which combination of layers\n",
    "give us the optimal value/test accuracty\n",
    "\n",
    "\n",
    "** we see that our test accuracy never reaches above 15% throughout experimentation and so\n",
    "we will manipulate the array; if the manipulation of the array doesn't give us a higher test\n",
    "accuracy ---> change model to CNN \n",
    "\n",
    ":)\n",
    "\n",
    " \"\"\""
   ]
  },
  {
   "cell_type": "code",
   "execution_count": 4,
   "metadata": {},
   "outputs": [],
   "source": [
    "import numpy as np\n",
    "from PIL import Image\n",
    "from sklearn.model_selection import train_test_split\n",
    "from sklearn.neighbors import KNeighborsClassifier\n",
    "from sklearn.svm import LinearSVC\n",
    "from sklearn.neural_network import MLPClassifier"
   ]
  },
  {
   "cell_type": "code",
   "execution_count": 5,
   "metadata": {},
   "outputs": [],
   "source": [
    "def demo(item_list, N_samples, image_crop=False):\n",
    "    dataset_X = []\n",
    "    dataset_y = []\n",
    "    for label, item in enumerate(item_list):\n",
    "        data = np.load('full_numpy_bitmap_{}.npy'.format(item))\n",
    "        print(item, data.shape, label)\n",
    "        for d in data[:N_samples]:\n",
    "            if image_crop:\n",
    "                img = Image.fromarray(d.reshape(28, 28))\n",
    "                img = img.crop(img.getbbox()).resize((28, 28), Image.LANCZOS)\n",
    "                dataset_X.append(np.asarray(img).reshape(784, ))\n",
    "            else:\n",
    "                dataset_X.append(d)\n",
    "            dataset_y.append(label)\n",
    "\n",
    "    dataset_X = np.array(dataset_X)\n",
    "    dataset_y = np.array(dataset_y)\n",
    "    print('total dataset:', dataset_X.shape, dataset_y.shape)\n",
    "\n",
    "    # skip data pre-processing\n",
    "    dataset_X = np.where(dataset_X > 0, 1, 0)\n",
    "\n",
    "    # prepare for train/val/test\n",
    "    # 0.56 0.14 0.3 we are splitting us th3e training value and test value in to 56 14 and 20 in to test value\n",
    "    X_train, X_test, y_train, y_test = train_test_split(dataset_X, dataset_y, test_size=0.3, shuffle=False)\n",
    "    X_train, X_val, y_train, y_val = train_test_split(X_train, y_train, test_size=0.2, shuffle=False)\n",
    "    print('training set:', X_train.shape, y_train.shape)\n",
    "    print('val set:', X_val.shape, y_val.shape)\n",
    "    print('test set:', X_test.shape, y_test.shape)\n",
    "\n",
    "    for n_value in [5]: \n",
    "        for p_value in [2]: \n",
    "            model = MLPClassifier(hidden_layer_sizes = (700,), learning_rate = 'adaptive',early_stopping=True)\n",
    "            model.fit(X_train, y_train)\n",
    "            print('training accuracy:', n_value, p_value, model.score(X_train, y_train))\n",
    "            print('val accuracy:', n_value, p_value, model.score(X_val, y_val))\n",
    "            print('test accuracy:', n_value, p_value, model.score(X_test, y_test))\n",
    "\n"
   ]
  },
  {
   "cell_type": "markdown",
   "metadata": {},
   "source": []
  },
  {
   "cell_type": "code",
   "execution_count": 6,
   "metadata": {},
   "outputs": [
    {
     "name": "stdout",
     "output_type": "stream",
     "text": [
      "apple (144722, 784) 0\n",
      "strawberry (122301, 784) 1\n",
      "banana (307936, 784) 2\n",
      "onion (132297, 784) 3\n",
      "sun (133781, 784) 4\n",
      "total dataset: (5000, 784) (5000,)\n",
      "training set: (2800, 784) (2800,)\n",
      "val set: (700, 784) (700,)\n",
      "test set: (1500, 784) (1500,)\n",
      "training accuracy: 5 2 0.995\n",
      "val accuracy: 5 2 0.2671428571428571\n",
      "test accuracy: 5 2 0.0\n"
     ]
    }
   ],
   "source": [
    "item_list = ['apple', 'strawberry','banana','onion','sun']\n",
    "N_samples = 1000\n",
    "demo(item_list, N_samples)"
   ]
  },
  {
   "cell_type": "code",
   "execution_count": 7,
   "metadata": {},
   "outputs": [
    {
     "name": "stdout",
     "output_type": "stream",
     "text": [
      "apple (144722, 784) 0\n",
      "strawberry (122301, 784) 1\n",
      "banana (307936, 784) 2\n",
      "onion (132297, 784) 3\n",
      "total dataset: (4000, 784) (4000,)\n",
      "training set: (2240, 784) (2240,)\n",
      "val set: (560, 784) (560,)\n",
      "test set: (1200, 784) (1200,)\n",
      "training accuracy: 5 2 0.9928571428571429\n",
      "val accuracy: 5 2 0.9053571428571429\n",
      "test accuracy: 5 2 0.15166666666666667\n"
     ]
    }
   ],
   "source": [
    "item_list = ['apple','strawberry','banana','onion',]\n",
    "N_samples = 1000\n",
    "demo(item_list, N_samples)"
   ]
  },
  {
   "cell_type": "code",
   "execution_count": 8,
   "metadata": {},
   "outputs": [
    {
     "name": "stdout",
     "output_type": "stream",
     "text": [
      "apple (144722, 784) 0\n",
      "strawberry (122301, 784) 1\n",
      "banana (307936, 784) 2\n",
      "total dataset: (3000, 784) (3000,)\n",
      "training set: (1680, 784) (1680,)\n",
      "val set: (420, 784) (420,)\n",
      "test set: (900, 784) (900,)\n",
      "training accuracy: 5 2 0.9863095238095239\n",
      "val accuracy: 5 2 0.6833333333333333\n",
      "test accuracy: 5 2 0.0\n"
     ]
    }
   ],
   "source": [
    "item_list = ['apple', 'strawberry','banana',]\n",
    "N_samples = 1000\n",
    "demo(item_list, N_samples)"
   ]
  },
  {
   "cell_type": "code",
   "execution_count": 9,
   "metadata": {},
   "outputs": [
    {
     "name": "stdout",
     "output_type": "stream",
     "text": [
      "apple (144722, 784) 0\n",
      "banana (307936, 784) 1\n",
      "total dataset: (8000, 784) (8000,)\n",
      "training set: (4480, 784) (4480,)\n",
      "val set: (1120, 784) (1120,)\n",
      "test set: (2400, 784) (2400,)\n",
      "training accuracy: 5 2 0.9979910714285715\n",
      "val accuracy: 5 2 0.9357142857142857\n",
      "test accuracy: 5 2 0.9275\n"
     ]
    }
   ],
   "source": [
    "item_list = ['apple', 'banana',]\n",
    "N_samples = 4000\n",
    "demo(item_list, N_samples)"
   ]
  },
  {
   "cell_type": "code",
   "execution_count": null,
   "metadata": {},
   "outputs": [],
   "source": []
  }
 ],
 "metadata": {
  "interpreter": {
   "hash": "7d5f7866feddbc36692f5276c122704e67d75663561bdaab1d19fa3d38f26b95"
  },
  "kernelspec": {
   "display_name": "Python 3.8.12 64-bit ('base': conda)",
   "language": "python",
   "name": "python3"
  },
  "language_info": {
   "codemirror_mode": {
    "name": "ipython",
    "version": 3
   },
   "file_extension": ".py",
   "mimetype": "text/x-python",
   "name": "python",
   "nbconvert_exporter": "python",
   "pygments_lexer": "ipython3",
   "version": "3.8.12"
  },
  "orig_nbformat": 4
 },
 "nbformat": 4,
 "nbformat_minor": 2
}
